{
 "cells": [
  {
   "cell_type": "code",
   "execution_count": 20,
   "metadata": {
    "scrolled": true
   },
   "outputs": [
    {
     "name": "stdout",
     "output_type": "stream",
     "text": [
      "水仙花数有：\n",
      "153\n",
      "370\n",
      "371\n",
      "407\n"
     ]
    }
   ],
   "source": [
    "print('水仙花数有：')\n",
    "for num in range(100, 1000):\n",
    "    num_sum = (num // 100) ** 3 + (num //  10 % 10) ** 3 + (num % 10) ** 3\n",
    "    if num == num_sum:\n",
    "        print(num)"
   ]
  },
  {
   "cell_type": "code",
   "execution_count": 2,
   "metadata": {},
   "outputs": [
    {
     "name": "stdout",
     "output_type": "stream",
     "text": [
      "寻找的范围大于等于：1\n",
      "寻找的范围小于：10000\n",
      "完美数有：\n",
      "6\n",
      "28\n",
      "496\n",
      "8128\n"
     ]
    }
   ],
   "source": [
    "import sys\n",
    "\n",
    "start = int(input('寻找的范围大于等于：'))\n",
    "end = int(input('寻找的范围小于：'))\n",
    "\n",
    "if abs(start) > sys.maxsize or abs(end) > sys.maxsize:\n",
    "    print('超出能计算的范围了')\n",
    "elif start >= end:\n",
    "    print('输入范围不符合约定')\n",
    "else:\n",
    "    print('完美数有：')\n",
    "    for num in range(start, end):\n",
    "        sum = 0\n",
    "        for i in range(1, int(num / 2) + 1):\n",
    "            if (num % i == 0):\n",
    "                sum += i\n",
    "        if sum == num:\n",
    "            print(num)\n"
   ]
  },
  {
   "cell_type": "code",
   "execution_count": 5,
   "metadata": {},
   "outputs": [
    {
     "name": "stdout",
     "output_type": "stream",
     "text": [
      "公鸡12，母鸡4，小鸡84\n",
      "公鸡8，母鸡11，小鸡81\n",
      "公鸡4，母鸡18，小鸡78\n",
      "公鸡0，母鸡25，小鸡75\n"
     ]
    }
   ],
   "source": [
    "account = 100\n",
    "for x in range(0, account + 1):\n",
    "    for y in range (0, account + 1 - x):\n",
    "        if 3 * x + 5 * y + (account - x - y) / 3 == account:\n",
    "            print('公鸡%d，母鸡%d，小鸡%d' % (y, x, account - x - y))"
   ]
  },
  {
   "cell_type": "code",
   "execution_count": 7,
   "metadata": {},
   "outputs": [
    {
     "name": "stdout",
     "output_type": "stream",
     "text": [
      "最大不超过：1000\n",
      "斐波那契数列：1,1,2,3,5,8,13,21,34,55,89,144,233,377,610,987,"
     ]
    }
   ],
   "source": [
    "max = int(input('最大不超过：'))\n",
    "\n",
    "a = 1\n",
    "b = 1\n",
    "print('斐波那契数列：', end=\"\")\n",
    "print(a, b, sep = ',', end = ',')\n",
    "while a + b < max:\n",
    "    print(a + b, end = ',')\n",
    "    a, b = b, a + b"
   ]
  },
  {
   "cell_type": "code",
   "execution_count": 13,
   "metadata": {},
   "outputs": [
    {
     "name": "stdout",
     "output_type": "stream",
     "text": [
      "第1次掷骰子点数和为9\n",
      "第2次掷骰子点数和为8\n",
      "第3次掷骰子点数和为4\n",
      "第4次掷骰子点数和为7\n",
      "庄家胜!\n"
     ]
    }
   ],
   "source": [
    "from random import randint\n",
    "\n",
    "count = 1\n",
    "need_continue = True\n",
    "first = randint(1, 6) + randint(1, 6)\n",
    "print('第%d次掷骰子点数和为%d' % (count,first))\n",
    "\n",
    "if first == 7 or first == 11:\n",
    "    need_continue = False\n",
    "    print('玩家胜!')\n",
    "elif first == 2 or first == 3 or first == 12:\n",
    "    need_continue = False\n",
    "    print('庄家胜!')\n",
    "    \n",
    "while need_continue:\n",
    "    current = randint(1, 6) + randint(1, 6)\n",
    "    count += 1\n",
    "    print('第%d次掷骰子点数和为%d' % (count, current))\n",
    "    if current == 7:\n",
    "        print('庄家胜!')\n",
    "        need_continue = False\n",
    "    elif current == first:\n",
    "        print('玩家胜!')\n"
   ]
  }
 ],
 "metadata": {
  "kernelspec": {
   "display_name": "Python 3",
   "language": "python",
   "name": "python3"
  },
  "language_info": {
   "codemirror_mode": {
    "name": "ipython",
    "version": 3
   },
   "file_extension": ".py",
   "mimetype": "text/x-python",
   "name": "python",
   "nbconvert_exporter": "python",
   "pygments_lexer": "ipython3",
   "version": "3.7.0"
  }
 },
 "nbformat": 4,
 "nbformat_minor": 2
}
