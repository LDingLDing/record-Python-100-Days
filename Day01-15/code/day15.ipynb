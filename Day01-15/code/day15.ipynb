{
 "cells": [
  {
   "cell_type": "code",
   "execution_count": 8,
   "metadata": {},
   "outputs": [],
   "source": [
    "from PIL import Image\n",
    "\n",
    "image = Image.open('../assets/02-01.png')\n",
    "image.format, image.size, image.mode \n",
    "('JPEG', (500, 750), 'RGB')\n",
    "image.show()"
   ]
  },
  {
   "cell_type": "code",
   "execution_count": 9,
   "metadata": {},
   "outputs": [],
   "source": [
    "image = Image.open('../assets/03-01.png')\n",
    "rect = 80, 20, 310, 360\n",
    "image.crop(rect).show()"
   ]
  },
  {
   "cell_type": "code",
   "execution_count": 10,
   "metadata": {},
   "outputs": [],
   "source": [
    "image = Image.open('../assets/03-01.png')\n",
    "size = 128, 128\n",
    "image.thumbnail(size)\n",
    "image.show()"
   ]
  },
  {
   "cell_type": "code",
   "execution_count": 19,
   "metadata": {},
   "outputs": [],
   "source": [
    "image1 = Image.open('../assets/02-01.png')\n",
    "image2 = Image.open('../assets/03-01.png')\n",
    "rect = 80, 20, 310, 360\n",
    "guido_head = image2.crop(rect)\n",
    "width, height = guido_head.size\n",
    "image1.paste(guido_head.resize((int(width / 1.5), int(height / 1.5))), (172, 40))\n",
    "image1.show()"
   ]
  },
  {
   "cell_type": "code",
   "execution_count": 13,
   "metadata": {},
   "outputs": [],
   "source": [
    "image = Image.open('../assets/03-01.png')\n",
    "image.rotate(180).show()\n",
    "image.transpose(Image.FLIP_LEFT_RIGHT).show()"
   ]
  },
  {
   "cell_type": "code",
   "execution_count": 16,
   "metadata": {},
   "outputs": [],
   "source": [
    "image = Image.open('../assets/03-01.png')\n",
    "for x in range(80, 120):\n",
    "    for y in range(20, 200):\n",
    "        image.putpixel((x,y), (128, 128, 128))\n",
    "image.show()"
   ]
  },
  {
   "cell_type": "code",
   "execution_count": 23,
   "metadata": {},
   "outputs": [],
   "source": [
    "from PIL import Image, ImageFilter\n",
    "\n",
    "image = Image.open('../assets/02-02.png')\n",
    "image.filter(ImageFilter.CONTOUR).show()"
   ]
  },
  {
   "cell_type": "code",
   "execution_count": null,
   "metadata": {},
   "outputs": [],
   "source": []
  }
 ],
 "metadata": {
  "kernelspec": {
   "display_name": "Python 3",
   "language": "python",
   "name": "python3"
  },
  "language_info": {
   "codemirror_mode": {
    "name": "ipython",
    "version": 3
   },
   "file_extension": ".py",
   "mimetype": "text/x-python",
   "name": "python",
   "nbconvert_exporter": "python",
   "pygments_lexer": "ipython3",
   "version": "3.7.3"
  }
 },
 "nbformat": 4,
 "nbformat_minor": 2
}
